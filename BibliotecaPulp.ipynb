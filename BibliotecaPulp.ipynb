{
 "cells": [
  {
   "cell_type": "markdown",
   "metadata": {},
   "source": [
    "##Usar la libreria pulp\n",
    "Resolver probleams de programacion lineal\n",
    "\n",
    "Maximizar $2x+y$\n",
    "\n",
    "s.a. $4x+y\\leq 150$, $2x-3y\\leq -40$, $x,y\\geq 0$"
   ]
  },
  {
   "cell_type": "code",
   "execution_count": 1,
   "metadata": {},
   "outputs": [],
   "source": [
    "from pulp import *\n",
    "x = LpVariable(\"x\", 0)\n",
    "y = LpVariable(\"y\", 0)\n",
    "prob = LpProblem(\"Ejemplo\", LpMaximize)\n",
    "prob += 4*x + y<= 150\n",
    "prob += 2*x - 3*y<= -40\n",
    "prob += 2*x + y"
   ]
  },
  {
   "cell_type": "code",
   "execution_count": 2,
   "metadata": {},
   "outputs": [
    {
     "data": {
      "text/plain": [
       "Ejemplo:\n",
       "MAXIMIZE\n",
       "2*x + 1*y + 0\n",
       "SUBJECT TO\n",
       "_C1: 4 x + y <= 150\n",
       "\n",
       "_C2: 2 x - 3 y <= -40\n",
       "\n",
       "VARIABLES\n",
       "x Continuous\n",
       "y Continuous"
      ]
     },
     "execution_count": 2,
     "metadata": {},
     "output_type": "execute_result"
    }
   ],
   "source": [
    "prob"
   ]
  },
  {
   "cell_type": "code",
   "execution_count": 3,
   "metadata": {},
   "outputs": [
    {
     "data": {
      "text/plain": [
       "(0.0, 150.0)"
      ]
     },
     "execution_count": 3,
     "metadata": {},
     "output_type": "execute_result"
    }
   ],
   "source": [
    "status = prob.solve()\n",
    "value(x), value(y)"
   ]
  },
  {
   "cell_type": "code",
   "execution_count": 4,
   "metadata": {},
   "outputs": [
    {
     "data": {
      "text/plain": [
       "(150.0, 'Optimal')"
      ]
     },
     "execution_count": 4,
     "metadata": {},
     "output_type": "execute_result"
    }
   ],
   "source": [
    "value(prob.objective), LpStatus[prob.status]"
   ]
  },
  {
   "cell_type": "code",
   "execution_count": 5,
   "metadata": {},
   "outputs": [],
   "source": [
    "x1 = LpVariable(\"x\", 0)\n",
    "y1 = LpVariable(\"y\", 0)\n",
    "prob1 = LpProblem(\"Ejemplo\", LpMaximize)\n",
    "prob1 += 2*x1 + y1 <= 4\n",
    "prob1 += -1*x1 - 2*y1 >= -5\n",
    "prob1 += 2*x1 + 2*y1"
   ]
  },
  {
   "cell_type": "code",
   "execution_count": 6,
   "metadata": {},
   "outputs": [
    {
     "data": {
      "text/plain": [
       "Ejemplo:\n",
       "MAXIMIZE\n",
       "2*x + 2*y + 0\n",
       "SUBJECT TO\n",
       "_C1: 2 x + y <= 4\n",
       "\n",
       "_C2: - x - 2 y >= -5\n",
       "\n",
       "VARIABLES\n",
       "x Continuous\n",
       "y Continuous"
      ]
     },
     "execution_count": 6,
     "metadata": {},
     "output_type": "execute_result"
    }
   ],
   "source": [
    "prob1"
   ]
  },
  {
   "cell_type": "code",
   "execution_count": 7,
   "metadata": {},
   "outputs": [
    {
     "data": {
      "text/plain": [
       "(1.0, 2.0, 6.0, 'Optimal')"
      ]
     },
     "execution_count": 7,
     "metadata": {},
     "output_type": "execute_result"
    }
   ],
   "source": [
    "status = prob1.solve()\n",
    "value(x1), value(y1), value(prob1.objective), LpStatus[prob1.status]"
   ]
  },
  {
   "cell_type": "code",
   "execution_count": 8,
   "metadata": {},
   "outputs": [],
   "source": [
    "x2 = LpVariable(\"x\", 0)\n",
    "y2 = LpVariable(\"y\", 0)\n",
    "prob2 = LpProblem(\"Ejemplo\", LpMaximize)\n",
    "prob2 += -1*x2 + y2 <= 2\n",
    "prob2 += y2 <= 4\n",
    "prob2 += 3*x2 + 4*y2"
   ]
  },
  {
   "cell_type": "code",
   "execution_count": 9,
   "metadata": {},
   "outputs": [
    {
     "data": {
      "text/plain": [
       "(2.0, 4.0, 22.0, 'Unbounded')"
      ]
     },
     "execution_count": 9,
     "metadata": {},
     "output_type": "execute_result"
    }
   ],
   "source": [
    "status = prob2.solve()\n",
    "value(x2), value(y2), value(prob2.objective), LpStatus[prob2.status]"
   ]
  },
  {
   "cell_type": "code",
   "execution_count": 10,
   "metadata": {},
   "outputs": [],
   "source": [
    "x3 = LpVariable(\"x\", 0)\n",
    "y3 = LpVariable(\"y\", 0)\n",
    "prob3 = LpProblem(\"Ejemplo\", LpMaximize)\n",
    "prob3 += 2*x3 + y3 <= 4\n",
    "prob3 += 2*x3 + y3 >= 5\n",
    "prob3 += -1*x3 - 2*y3 >= -5\n",
    "prob3 += 2*x3 + 2*y3"
   ]
  },
  {
   "cell_type": "code",
   "execution_count": 11,
   "metadata": {},
   "outputs": [
    {
     "data": {
      "text/plain": [
       "(1.6666667, 1.6666667, 6.6666668, 'Infeasible')"
      ]
     },
     "execution_count": 11,
     "metadata": {},
     "output_type": "execute_result"
    }
   ],
   "source": [
    "status = prob3.solve()\n",
    "value(x3), value(y3), value(prob3.objective), LpStatus[prob3.status]"
   ]
  }
 ],
 "metadata": {
  "kernelspec": {
   "display_name": "Python 3",
   "language": "python",
   "name": "python3"
  },
  "language_info": {
   "codemirror_mode": {
    "name": "ipython",
    "version": 3
   },
   "file_extension": ".py",
   "mimetype": "text/x-python",
   "name": "python",
   "nbconvert_exporter": "python",
   "pygments_lexer": "ipython3",
   "version": "3.7.0"
  }
 },
 "nbformat": 4,
 "nbformat_minor": 2
}
